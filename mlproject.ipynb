{
  "nbformat": 4,
  "nbformat_minor": 0,
  "metadata": {
    "colab": {
      "name": "mlproject.ipynb",
      "provenance": [],
      "collapsed_sections": []
    },
    "kernelspec": {
      "name": "python3",
      "display_name": "Python 3"
    },
    "language_info": {
      "name": "python"
    },
    "accelerator": "GPU"
  },
  "cells": [
    {
      "cell_type": "code",
      "metadata": {
        "id": "H5wYlGilJg9_"
      },
      "source": [
        "import numpy\n",
        "import matplotlib.pyplot as plt\n",
        "import pandas\n",
        "import math\n",
        "from keras.models import Sequential\n",
        "from keras.layers import Dense\n",
        "from keras.layers import LSTM\n",
        "from sklearn.preprocessing import MinMaxScaler\n",
        "from sklearn.metrics import mean_squared_error\n",
        "# fix random seed for reproducibility\n",
        "numpy.random.seed(7)"
      ],
      "execution_count": 3,
      "outputs": []
    },
    {
      "cell_type": "code",
      "metadata": {
        "colab": {
          "base_uri": "https://localhost:8080/"
        },
        "id": "JAucCgoOQ16-",
        "outputId": "56d6aaec-5808-471f-d376-a16f232a04f5"
      },
      "source": [
        "from google.colab import drive \n",
        "drive.mount('/content/drive')"
      ],
      "execution_count": 4,
      "outputs": [
        {
          "output_type": "stream",
          "text": [
            "Mounted at /content/drive\n"
          ],
          "name": "stdout"
        }
      ]
    },
    {
      "cell_type": "code",
      "metadata": {
        "colab": {
          "base_uri": "https://localhost:8080/"
        },
        "id": "RzxKiCSWRqpo",
        "outputId": "7c45326a-2e94-4435-ba2a-ef549d4a3c1d"
      },
      "source": [
        "%cd /content/drive/My\\ Drive/"
      ],
      "execution_count": 5,
      "outputs": [
        {
          "output_type": "stream",
          "text": [
            "/content/drive/My Drive\n"
          ],
          "name": "stdout"
        }
      ]
    },
    {
      "cell_type": "code",
      "metadata": {
        "id": "MkTSk4abJ_Ug"
      },
      "source": [
        "# load the dataset\n",
        "dataframe = pandas.read_csv('AirPassengers.csv', usecols=[1], engine='python')\n",
        "dataset = dataframe.values\n",
        "dataset = dataset.astype('float32')\n",
        "# normalize the dataset\n",
        "scaler = MinMaxScaler(feature_range=(0, 1))\n",
        "dataset = scaler.fit_transform(dataset)"
      ],
      "execution_count": 8,
      "outputs": []
    },
    {
      "cell_type": "code",
      "metadata": {
        "colab": {
          "base_uri": "https://localhost:8080/"
        },
        "id": "DkFFYeblxd2q",
        "outputId": "c11bd73d-3b75-44c4-a0db-68216d81f693"
      },
      "source": [
        "# split into train and test sets\n",
        "train_size = int(len(dataset) * 0.67)\n",
        "test_size = len(dataset) - train_size\n",
        "train, test = dataset[0:train_size,:], dataset[train_size:len(dataset),:]\n",
        "print(len(train), len(test))"
      ],
      "execution_count": 9,
      "outputs": [
        {
          "output_type": "stream",
          "text": [
            "96 48\n"
          ],
          "name": "stdout"
        }
      ]
    },
    {
      "cell_type": "code",
      "metadata": {
        "id": "0DE7N-OCxsw5"
      },
      "source": [
        "# convert an array of values into a dataset matrix\n",
        "def create_dataset(dataset, look_back=1):\n",
        "\tdataX, dataY = [], []\n",
        "\tfor i in range(len(dataset)-look_back-1):\n",
        "\t\ta = dataset[i:(i+look_back), 0]\n",
        "\t\tdataX.append(a)\n",
        "\t\tdataY.append(dataset[i + look_back, 0])\n",
        "\treturn numpy.array(dataX), numpy.array(dataY)"
      ],
      "execution_count": 10,
      "outputs": []
    },
    {
      "cell_type": "code",
      "metadata": {
        "id": "bUYZaJWyx1m6"
      },
      "source": [
        "# reshape into X=t and Y=t+1\n",
        "look_back = 1\n",
        "trainX, trainY = create_dataset(train, look_back)\n",
        "testX, testY = create_dataset(test, look_back)\n",
        "# reshape input to be [samples, time steps, features]\n",
        "trainX = numpy.reshape(trainX, (trainX.shape[0], 1, trainX.shape[1]))\n",
        "testX = numpy.reshape(testX, (testX.shape[0], 1, testX.shape[1]))"
      ],
      "execution_count": 11,
      "outputs": []
    },
    {
      "cell_type": "code",
      "metadata": {
        "colab": {
          "base_uri": "https://localhost:8080/"
        },
        "id": "vbQkCmt8x9Pc",
        "outputId": "459eb803-2e6f-4913-fb96-429354742d54"
      },
      "source": [
        "# create and fit the LSTM network\n",
        "model = Sequential()\n",
        "model.add(LSTM(4, input_shape=(1, look_back)))\n",
        "model.add(Dense(1))\n",
        "model.compile(loss='mean_squared_error', optimizer='adam')\n",
        "model.fit(trainX, trainY, epochs=100, batch_size=1, verbose=2)"
      ],
      "execution_count": 12,
      "outputs": [
        {
          "output_type": "stream",
          "text": [
            "Epoch 1/100\n",
            "94/94 - 30s - loss: 0.0471\n",
            "Epoch 2/100\n",
            "94/94 - 0s - loss: 0.0230\n",
            "Epoch 3/100\n",
            "94/94 - 0s - loss: 0.0170\n",
            "Epoch 4/100\n",
            "94/94 - 0s - loss: 0.0154\n",
            "Epoch 5/100\n",
            "94/94 - 0s - loss: 0.0144\n",
            "Epoch 6/100\n",
            "94/94 - 0s - loss: 0.0136\n",
            "Epoch 7/100\n",
            "94/94 - 0s - loss: 0.0125\n",
            "Epoch 8/100\n",
            "94/94 - 0s - loss: 0.0115\n",
            "Epoch 9/100\n",
            "94/94 - 0s - loss: 0.0105\n",
            "Epoch 10/100\n",
            "94/94 - 0s - loss: 0.0096\n",
            "Epoch 11/100\n",
            "94/94 - 0s - loss: 0.0089\n",
            "Epoch 12/100\n",
            "94/94 - 0s - loss: 0.0079\n",
            "Epoch 13/100\n",
            "94/94 - 0s - loss: 0.0071\n",
            "Epoch 14/100\n",
            "94/94 - 0s - loss: 0.0063\n",
            "Epoch 15/100\n",
            "94/94 - 0s - loss: 0.0057\n",
            "Epoch 16/100\n",
            "94/94 - 0s - loss: 0.0051\n",
            "Epoch 17/100\n",
            "94/94 - 0s - loss: 0.0045\n",
            "Epoch 18/100\n",
            "94/94 - 0s - loss: 0.0040\n",
            "Epoch 19/100\n",
            "94/94 - 0s - loss: 0.0036\n",
            "Epoch 20/100\n",
            "94/94 - 0s - loss: 0.0032\n",
            "Epoch 21/100\n",
            "94/94 - 0s - loss: 0.0030\n",
            "Epoch 22/100\n",
            "94/94 - 0s - loss: 0.0027\n",
            "Epoch 23/100\n",
            "94/94 - 0s - loss: 0.0025\n",
            "Epoch 24/100\n",
            "94/94 - 0s - loss: 0.0024\n",
            "Epoch 25/100\n",
            "94/94 - 0s - loss: 0.0023\n",
            "Epoch 26/100\n",
            "94/94 - 0s - loss: 0.0022\n",
            "Epoch 27/100\n",
            "94/94 - 0s - loss: 0.0022\n",
            "Epoch 28/100\n",
            "94/94 - 0s - loss: 0.0022\n",
            "Epoch 29/100\n",
            "94/94 - 0s - loss: 0.0021\n",
            "Epoch 30/100\n",
            "94/94 - 0s - loss: 0.0021\n",
            "Epoch 31/100\n",
            "94/94 - 0s - loss: 0.0021\n",
            "Epoch 32/100\n",
            "94/94 - 0s - loss: 0.0020\n",
            "Epoch 33/100\n",
            "94/94 - 0s - loss: 0.0021\n",
            "Epoch 34/100\n",
            "94/94 - 0s - loss: 0.0021\n",
            "Epoch 35/100\n",
            "94/94 - 0s - loss: 0.0022\n",
            "Epoch 36/100\n",
            "94/94 - 0s - loss: 0.0021\n",
            "Epoch 37/100\n",
            "94/94 - 0s - loss: 0.0021\n",
            "Epoch 38/100\n",
            "94/94 - 0s - loss: 0.0021\n",
            "Epoch 39/100\n",
            "94/94 - 0s - loss: 0.0020\n",
            "Epoch 40/100\n",
            "94/94 - 0s - loss: 0.0020\n",
            "Epoch 41/100\n",
            "94/94 - 0s - loss: 0.0020\n",
            "Epoch 42/100\n",
            "94/94 - 0s - loss: 0.0021\n",
            "Epoch 43/100\n",
            "94/94 - 0s - loss: 0.0021\n",
            "Epoch 44/100\n",
            "94/94 - 0s - loss: 0.0021\n",
            "Epoch 45/100\n",
            "94/94 - 0s - loss: 0.0021\n",
            "Epoch 46/100\n",
            "94/94 - 0s - loss: 0.0020\n",
            "Epoch 47/100\n",
            "94/94 - 0s - loss: 0.0021\n",
            "Epoch 48/100\n",
            "94/94 - 0s - loss: 0.0021\n",
            "Epoch 49/100\n",
            "94/94 - 0s - loss: 0.0021\n",
            "Epoch 50/100\n",
            "94/94 - 0s - loss: 0.0021\n",
            "Epoch 51/100\n",
            "94/94 - 0s - loss: 0.0021\n",
            "Epoch 52/100\n",
            "94/94 - 0s - loss: 0.0021\n",
            "Epoch 53/100\n",
            "94/94 - 0s - loss: 0.0020\n",
            "Epoch 54/100\n",
            "94/94 - 0s - loss: 0.0021\n",
            "Epoch 55/100\n",
            "94/94 - 0s - loss: 0.0020\n",
            "Epoch 56/100\n",
            "94/94 - 0s - loss: 0.0021\n",
            "Epoch 57/100\n",
            "94/94 - 0s - loss: 0.0021\n",
            "Epoch 58/100\n",
            "94/94 - 0s - loss: 0.0021\n",
            "Epoch 59/100\n",
            "94/94 - 0s - loss: 0.0021\n",
            "Epoch 60/100\n",
            "94/94 - 0s - loss: 0.0021\n",
            "Epoch 61/100\n",
            "94/94 - 0s - loss: 0.0021\n",
            "Epoch 62/100\n",
            "94/94 - 0s - loss: 0.0020\n",
            "Epoch 63/100\n",
            "94/94 - 0s - loss: 0.0021\n",
            "Epoch 64/100\n",
            "94/94 - 0s - loss: 0.0021\n",
            "Epoch 65/100\n",
            "94/94 - 0s - loss: 0.0022\n",
            "Epoch 66/100\n",
            "94/94 - 0s - loss: 0.0020\n",
            "Epoch 67/100\n",
            "94/94 - 0s - loss: 0.0021\n",
            "Epoch 68/100\n",
            "94/94 - 0s - loss: 0.0020\n",
            "Epoch 69/100\n",
            "94/94 - 0s - loss: 0.0021\n",
            "Epoch 70/100\n",
            "94/94 - 0s - loss: 0.0020\n",
            "Epoch 71/100\n",
            "94/94 - 0s - loss: 0.0020\n",
            "Epoch 72/100\n",
            "94/94 - 0s - loss: 0.0021\n",
            "Epoch 73/100\n",
            "94/94 - 0s - loss: 0.0020\n",
            "Epoch 74/100\n",
            "94/94 - 0s - loss: 0.0021\n",
            "Epoch 75/100\n",
            "94/94 - 0s - loss: 0.0020\n",
            "Epoch 76/100\n",
            "94/94 - 0s - loss: 0.0021\n",
            "Epoch 77/100\n",
            "94/94 - 0s - loss: 0.0021\n",
            "Epoch 78/100\n",
            "94/94 - 0s - loss: 0.0020\n",
            "Epoch 79/100\n",
            "94/94 - 0s - loss: 0.0021\n",
            "Epoch 80/100\n",
            "94/94 - 0s - loss: 0.0020\n",
            "Epoch 81/100\n",
            "94/94 - 0s - loss: 0.0021\n",
            "Epoch 82/100\n",
            "94/94 - 0s - loss: 0.0020\n",
            "Epoch 83/100\n",
            "94/94 - 0s - loss: 0.0021\n",
            "Epoch 84/100\n",
            "94/94 - 0s - loss: 0.0021\n",
            "Epoch 85/100\n",
            "94/94 - 0s - loss: 0.0021\n",
            "Epoch 86/100\n",
            "94/94 - 0s - loss: 0.0021\n",
            "Epoch 87/100\n",
            "94/94 - 0s - loss: 0.0020\n",
            "Epoch 88/100\n",
            "94/94 - 0s - loss: 0.0020\n",
            "Epoch 89/100\n",
            "94/94 - 0s - loss: 0.0021\n",
            "Epoch 90/100\n",
            "94/94 - 0s - loss: 0.0020\n",
            "Epoch 91/100\n",
            "94/94 - 0s - loss: 0.0020\n",
            "Epoch 92/100\n",
            "94/94 - 0s - loss: 0.0020\n",
            "Epoch 93/100\n",
            "94/94 - 0s - loss: 0.0020\n",
            "Epoch 94/100\n",
            "94/94 - 0s - loss: 0.0020\n",
            "Epoch 95/100\n",
            "94/94 - 0s - loss: 0.0020\n",
            "Epoch 96/100\n",
            "94/94 - 0s - loss: 0.0021\n",
            "Epoch 97/100\n",
            "94/94 - 0s - loss: 0.0021\n",
            "Epoch 98/100\n",
            "94/94 - 0s - loss: 0.0020\n",
            "Epoch 99/100\n",
            "94/94 - 0s - loss: 0.0020\n",
            "Epoch 100/100\n",
            "94/94 - 0s - loss: 0.0020\n"
          ],
          "name": "stdout"
        },
        {
          "output_type": "execute_result",
          "data": {
            "text/plain": [
              "<tensorflow.python.keras.callbacks.History at 0x7fce8050cc90>"
            ]
          },
          "metadata": {
            "tags": []
          },
          "execution_count": 12
        }
      ]
    },
    {
      "cell_type": "code",
      "metadata": {
        "colab": {
          "base_uri": "https://localhost:8080/",
          "height": 265
        },
        "id": "dAaJrIm4yZQf",
        "outputId": "5abcb840-bbc3-4bed-ab32-5002b330b647"
      },
      "source": [
        "# make predictions\n",
        "trainPredict = model.predict(trainX)\n",
        "testPredict = model.predict(testX)\n",
        "# invert predictions\n",
        "trainPredict = scaler.inverse_transform(trainPredict)\n",
        "trainY = scaler.inverse_transform([trainY])\n",
        "testPredict = scaler.inverse_transform(testPredict)\n",
        "testY = scaler.inverse_transform([testY])\n",
        "# calculate root mean squared error\n",
        "trainScore = math.sqrt(mean_squared_error(trainY[0], trainPredict[:,0]))\n",
        "testScore = math.sqrt(mean_squared_error(testY[0], testPredict[:,0]))\n",
        "\n",
        "# shift train predictions for plotting\n",
        "trainPredictPlot = numpy.empty_like(dataset)\n",
        "trainPredictPlot[:, :] = numpy.nan\n",
        "trainPredictPlot[look_back:len(trainPredict)+look_back, :] = trainPredict\n",
        "# shift test predictions for plotting\n",
        "testPredictPlot = numpy.empty_like(dataset)\n",
        "testPredictPlot[:, :] = numpy.nan\n",
        "testPredictPlot[len(trainPredict)+(look_back*2)+1:len(dataset)-1, :] = testPredict\n",
        "# plot baseline and predictions\n",
        "plt.plot(scaler.inverse_transform(dataset))\n",
        "plt.plot(trainPredictPlot)\n",
        "plt.plot(testPredictPlot)\n",
        "plt.show()"
      ],
      "execution_count": 13,
      "outputs": [
        {
          "output_type": "display_data",
          "data": {
            "image/png": "[encoded data removed]",
            "text/plain": [
              "<Figure size 432x288 with 1 Axes>"
            ]
          },
          "metadata": {
            "tags": [],
            "needs_background": "light"
          }
        }
      ]
    }
  ]
}